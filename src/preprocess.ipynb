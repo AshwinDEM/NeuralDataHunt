{
 "cells": [
  {
   "cell_type": "code",
   "execution_count": 2,
   "metadata": {},
   "outputs": [
    {
     "name": "stderr",
     "output_type": "stream",
     "text": [
      "c:\\Users\\Ashwin\\AppData\\Local\\Programs\\Python\\Python312\\Lib\\site-packages\\sentence_transformers\\cross_encoder\\CrossEncoder.py:11: TqdmWarning: IProgress not found. Please update jupyter and ipywidgets. See https://ipywidgets.readthedocs.io/en/stable/user_install.html\n",
      "  from tqdm.autonotebook import tqdm, trange\n"
     ]
    }
   ],
   "source": [
    "import pandas as pd\n",
    "from sentence_transformers import SentenceTransformer\n",
    "import faiss\n",
    "import numpy as np"
   ]
  },
  {
   "cell_type": "code",
   "execution_count": null,
   "metadata": {},
   "outputs": [],
   "source": [
    "import pandas as pd\n",
    "\n",
    "# Load your dataset\n",
    "df = pd.read_csv('path_to_your_dataset.csv')\n",
    "\n",
    "# List the columns to be used for generating embeddings, including 'Abstract'\n",
    "text_columns = ['Abstract', 'Title', 'Keywords', 'Summary']\n",
    "\n",
    "# Example: Clean your data if necessary\n",
    "for col in text_columns:\n",
    "    df[col] = df[col].str.lower().str.replace('[^\\w\\s]', '')\n",
    "\n",
    "# Concatenate text columns into a single column\n",
    "df['CombinedText'] = df[text_columns].fillna('').agg(' '.join, axis=1)\n"
   ]
  },
  {
   "cell_type": "code",
   "execution_count": null,
   "metadata": {},
   "outputs": [],
   "source": [
    "from sentence_transformers import SentenceTransformer\n",
    "\n",
    "# Load a pre-trained model\n",
    "model = SentenceTransformer('all-MiniLM-L6-v2')\n",
    "\n",
    "# Generate embeddings for the combined text\n",
    "embeddings = model.encode(df['CombinedText'].tolist(), show_progress_bar=True)\n",
    "\n",
    "# Add embeddings to the dataframe\n",
    "df['Embedding'] = list(embeddings)\n"
   ]
  },
  {
   "cell_type": "code",
   "execution_count": null,
   "metadata": {},
   "outputs": [],
   "source": [
    "import faiss\n",
    "import numpy as np\n",
    "\n",
    "# Convert embeddings to numpy array\n",
    "embeddings_np = np.array(embeddings).astype('float32')\n",
    "\n",
    "# Create a FAISS index\n",
    "index = faiss.IndexFlatL2(embeddings_np.shape[1])\n",
    "\n",
    "# Add embeddings to the index\n",
    "index.add(embeddings_np)\n"
   ]
  },
  {
   "cell_type": "code",
   "execution_count": null,
   "metadata": {},
   "outputs": [],
   "source": [
    "def search_entries(query, k=5):\n",
    "    # Generate embedding for the query\n",
    "    query_embedding = model.encode([query])\n",
    "\n",
    "    # Search the index for the most similar embeddings\n",
    "    distances, indices = index.search(np.array(query_embedding).astype('float32'), k)\n",
    "\n",
    "    # Retrieve the most similar entries\n",
    "    results = df.iloc[indices[0]].copy()\n",
    "    results['Distance'] = distances[0]\n",
    "    return results\n",
    "\n",
    "# Example search\n",
    "query = \"Your search query here\"\n",
    "search_results = search_entries(query)\n",
    "print(search_results)\n"
   ]
  }
 ],
 "metadata": {
  "kernelspec": {
   "display_name": "Python 3",
   "language": "python",
   "name": "python3"
  },
  "language_info": {
   "codemirror_mode": {
    "name": "ipython",
    "version": 3
   },
   "file_extension": ".py",
   "mimetype": "text/x-python",
   "name": "python",
   "nbconvert_exporter": "python",
   "pygments_lexer": "ipython3",
   "version": "3.12.4"
  }
 },
 "nbformat": 4,
 "nbformat_minor": 2
}
